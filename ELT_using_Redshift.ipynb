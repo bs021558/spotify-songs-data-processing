{
  "metadata": {
    "kernelspec": {
      "name": "python",
      "display_name": "Python (Pyodide)",
      "language": "python"
    },
    "language_info": {
      "codemirror_mode": {
        "name": "python",
        "version": 3
      },
      "file_extension": ".py",
      "mimetype": "text/x-python",
      "name": "python",
      "nbconvert_exporter": "python",
      "pygments_lexer": "ipython3",
      "version": "3.8"
    },
    "colab": {
      "provenance": []
    }
  },
  "nbformat_minor": 0,
  "nbformat": 4,
  "cells": [
    {
      "cell_type": "markdown",
      "source": [
        "# Connect to Redshift"
      ],
      "metadata": {
        "id": "5cVgbWpuEYAI"
      }
    },
    {
      "cell_type": "code",
      "source": [
        "import psycopg2\n",
        "\n",
        "# Connect to Redshift and return connection object\n",
        "def get_connection():\n",
        "  # Connection information\n",
        "  host = \"default-workgroup.629479324349.us-west-2.redshift-serverless.amazonaws.com\"\n",
        "  port = \"5439\"  # Redshift port\n",
        "  database = \"dev\"\n",
        "  user = \"admin\"\n",
        "  password = \"*******\"\n",
        "  # Connect\n",
        "  conn = psycopg2.connect(\n",
        "      dbname=database,\n",
        "      user=user,\n",
        "      password=password,\n",
        "      host=host,\n",
        "      port=port\n",
        "  )\n",
        "  return conn\n",
        "\n",
        "# Close the connection\n",
        "def close(conn):\n",
        "  conn.cursor().close()\n",
        "  conn.close()"
      ],
      "metadata": {
        "id": "7BVSKb8PCdWr"
      },
      "outputs": [],
      "execution_count": null
    },
    {
      "cell_type": "markdown",
      "source": [
        "# Test connection"
      ],
      "metadata": {
        "id": "jt_gBWOAEd95"
      }
    },
    {
      "cell_type": "code",
      "source": [
        "# Connect\n",
        "conn = get_connection()\n",
        "\n",
        "# Get cursor\n",
        "cur = conn.cursor()\n",
        "\n",
        "# Test sql execution that list all users\n",
        "cur.execute(\"SELECT * FROM pg_user;\")\n",
        "rows = cur.fetchall()\n",
        "\n",
        "# Check the result\n",
        "for row in rows: # print rows\n",
        "    print(row)\n",
        "\n",
        "# Disconnect\n",
        "cur.close()\n",
        "conn.close()"
      ],
      "metadata": {
        "colab": {
          "base_uri": "https://localhost:8080/"
        },
        "id": "Wl9LQu2rENGF",
        "outputId": "5e228a89-c1fe-465d-ca74-fa6240a61a10"
      },
      "outputs": [
        {
          "output_type": "stream",
          "name": "stdout",
          "text": [
            "('rdsdb', 1, True, True, True, '********', 'infinity', None)\n",
            "('IAM:RootIdentity', 101, True, True, False, '********', None, None)\n",
            "('user1', 102, True, False, False, '********', None, None)\n",
            "('admin', 100, True, True, False, '********', 'infinity', None)\n"
          ]
        }
      ],
      "execution_count": null
    },
    {
      "cell_type": "markdown",
      "source": [
        "#Initial load the dataset"
      ],
      "metadata": {
        "id": "OpKh4BjVFQ5_"
      }
    },
    {
      "cell_type": "markdown",
      "source": [
        "## From S3 as external storage"
      ],
      "metadata": {
        "id": "ba9BFPHXSlGf"
      }
    },
    {
      "cell_type": "code",
      "source": [
        "conn = get_connection()\n",
        "cur = conn.cursor()\n",
        "\n",
        "sql_create_external_schema = (\n",
        "    \"CREATE EXTERNAL SCHEMA external_schema_s3 \"\n",
        "    \"FROM data catalog \"\n",
        "    \"DATABASE 'external_db_s3' \"\n",
        "    \"IAM_ROLE 'arn:aws:iam::629479324349:role/redshift-ETL-manager' \"\n",
        "    \"CREATE EXTERNAL DATABASE IF NOT EXISTS;\"\n",
        ")\n",
        "\n",
        "sql_create_external_table = (\n",
        "    \"CREATE EXTERNAL TABLE external_schema_s3.spotify_songs (\"\n",
        "      \"track_id character varying(256),\"\n",
        "      \"track_name character varying(256),\"\n",
        "      \"track_artist character varying(256),\"\n",
        "      \"track_popularity integer,\"\n",
        "      \"track_album_id character varying(256),\"\n",
        "      \"track_album_name character varying(256),\"\n",
        "      \"track_album_release_date date,\"\n",
        "      \"playlist_name character varying(256),\"\n",
        "      \"playlist_id character varying(256), \"\n",
        "      \"playlist_genre character varying(256),\"\n",
        "      \"playlist_subgenre character varying(256),\"\n",
        "      \"danceability real,\"\n",
        "      \"energy real,\"\n",
        "      \"key integer,\"\n",
        "      \"loudness real,\"\n",
        "      \"mode integer,\"\n",
        "      \"speechiness real,\"\n",
        "      \"acousticness real,\"\n",
        "      \"instrumentalness real,\"\n",
        "      \"liveness real,\"\n",
        "      \"valence real,\"\n",
        "      \"tempo real,\"\n",
        "      \"duration_ms integer\"\n",
        "    \") \"\n",
        "    \"ROW FORMAT DELIMITED \"\n",
        "    \"FIELDS TERMINATED BY ',' \"\n",
        "    \"LINES TERMINATED BY '\\n' \" # If skipped this line and set with '\\n' by default\n",
        "    \"STORED AS textfile \"\n",
        "    \"LOCATION 's3://practice-bucket50412/redshift_input/' \"\n",
        "    \"TABLE PROPERTIES ('skip.header.line.count'='1');\"\n",
        "\n",
        ")\n",
        "\n",
        "# Enable autocommit To resolve that SQL (CREATE EXTERNAL ...) cannot run inside a transaction block\n",
        "conn.autocommit = True\n",
        "\n",
        "# cur.execute(sql_create_external_schema)\n",
        "cur.execute(sql_create_external_table)\n",
        "\n",
        "close(conn)"
      ],
      "metadata": {
        "id": "54iI3O40DeL9"
      },
      "outputs": [],
      "execution_count": null
    },
    {
      "cell_type": "markdown",
      "source": [
        "# (Not be used) Alternative way to load csv file using COPY\n"
      ],
      "metadata": {
        "id": "izJN4V-n91DO"
      }
    },
    {
      "cell_type": "code",
      "source": [
        "conn = get_connection()\n",
        "cur = conn.cursor()\n",
        "\n",
        "query_table_definition = (\n",
        "  \"CREATE TABLE raw_data.spotify_songs (\"\n",
        "    \"track_id character varying(256) ENCODE lzo,\"\n",
        "    \"track_name character varying(256) ENCODE lzo,\"\n",
        "    \"track_artist character varying(256) ENCODE lzo,\"\n",
        "    \"track_popularity integer ENCODE az64,\"\n",
        "    \"track_album_id character varying(256) ENCODE lzo,\"\n",
        "    \"track_album_name character varying(256) ENCODE lzo,\"\n",
        "    \"track_album_release_date character varying(256) ENCODE lzo,\"\n",
        "    \"playlist_name character varying(256) ENCODE lzo,\"\n",
        "    \"playlist_id character varying(256) ENCODE lzo, \"\n",
        "    \"playlist_genre character varying(256) ENCODE lzo,\"\n",
        "    \"playlist_subgenre character varying(256) ENCODE lzo,\"\n",
        "    \"danceability real ENCODE raw,\"\n",
        "    \"energy real ENCODE raw,\"\n",
        "    \"key integer ENCODE az64,\"\n",
        "    \"loudness real ENCODE raw,\"\n",
        "    \"mode integer ENCODE az64,\"\n",
        "    \"speechiness real ENCODE raw,\"\n",
        "    \"acousticness real ENCODE raw,\"\n",
        "    \"instrumentalness real ENCODE raw,\"\n",
        "    \"liveness real ENCODE raw,\"\n",
        "    \"valence real ENCODE raw,\"\n",
        "    \"tempo real ENCODE raw,\"\n",
        "    \"duration_ms integer ENCODE az64\"\n",
        "  \")DISTKEY(playlist_id);\"\n",
        ")\n",
        "\n",
        "sql_copy_csv = (\n",
        "    \"COPY dev.raw_data.spotify_songs \"\n",
        "    \"FROM 's3://practice-bucket50412/spotify_songs.csv' \"\n",
        "    \"IAM_ROLE 'arn:aws:iam::629479324349:role/redshift-ETL-manager' \"\n",
        "    \"FORMAT AS CSV \"\n",
        "    \"DELIMITER ',' \"\n",
        "    \"QUOTE '\\\"' \"\n",
        "    \"IGNOREHEADER 1 \"\n",
        "    \"REGION AS 'us-west-2';\"\n",
        ")\n",
        "\n",
        "cur.execute(\"BEGIN;\")\n",
        "cur.execute(sql_create_table)\n",
        "cur.execute(sql_copy)\n",
        "cur.execute(\"END;\")\n",
        "\n",
        "close(conn)"
      ],
      "metadata": {
        "id": "y-GSf5mB90Pw"
      },
      "execution_count": null,
      "outputs": []
    },
    {
      "cell_type": "markdown",
      "source": [
        "# Create tables to analysis"
      ],
      "metadata": {
        "id": "e54ejEdA6oEn"
      }
    },
    {
      "cell_type": "markdown",
      "source": [
        "## Genres by year"
      ],
      "metadata": {
        "id": "OF0CVjidLB8d"
      }
    },
    {
      "cell_type": "code",
      "source": [
        "sql_create_table_genres_by_year = (\n",
        "'CREATE TABLE dev.analytics.genre_by_year AS '\n",
        "  'SELECT EXTRACT(YEAR FROM track_album_release_date) AS year, playlist_genre AS genre, COUNT(DISTINCT track_id) AS tracks '\n",
        "  'FROM external_schema_s3.spotify_songs '\n",
        "  'GROUP BY 1,2;'\n",
        ")\n",
        "\n",
        "conn = get_connection()\n",
        "cur = conn.cursor()\n",
        "\n",
        "cur.execute('BEGIN;')\n",
        "cur.execute(sql_create_table_genres_by_year)\n",
        "cur.execute('END;')\n",
        "\n",
        "close(conn)"
      ],
      "metadata": {
        "id": "Zta6sb6Z6zsr"
      },
      "execution_count": null,
      "outputs": []
    },
    {
      "cell_type": "markdown",
      "source": [
        "## Top 50 artists"
      ],
      "metadata": {
        "id": "ROGsLXk5wbeC"
      }
    },
    {
      "cell_type": "code",
      "source": [
        "sql_create_table_tracks_by_artist = (\n",
        "    'CREATE TABLE dev.analytics.tracks_by_artist AS '\n",
        "      'SELECT '\n",
        "        'track_artist AS artist, '\n",
        "        'COUNT(DISTINCT track_id) AS tracks '\n",
        "      'FROM external_schema_s3.spotify_songs '\n",
        "      'GROUP BY track_artist'\n",
        ")\n",
        "\n",
        "conn = get_connection()\n",
        "cur = conn.cursor()\n",
        "\n",
        "cur.execute('BEGIN;')\n",
        "cur.execute(sql_create_table_tracks_by_artist)\n",
        "cur.execute('END;')\n",
        "\n",
        "close(conn)"
      ],
      "metadata": {
        "id": "F6aobCG1wekw"
      },
      "execution_count": null,
      "outputs": []
    },
    {
      "cell_type": "markdown",
      "source": [
        "## t-SNE"
      ],
      "metadata": {
        "id": "a9SVSkVuxMgX"
      }
    },
    {
      "cell_type": "markdown",
      "source": [
        "### Load"
      ],
      "metadata": {
        "id": "bTr1kdFMzoMz"
      }
    },
    {
      "cell_type": "code",
      "source": [
        "sql_create_external_table_tsne = (\n",
        "  \"CREATE EXTERNAL TABLE external_schema_s3.spotify_songs_tsne (\"\n",
        "      \"playlist_genre character varying(256),\"\n",
        "      \"dimension_1 real,\"\n",
        "      \"dimension_2 real\"\n",
        "    \") \"\n",
        "    \"ROW FORMAT DELIMITED \"\n",
        "    \"FIELDS TERMINATED BY ',' \"\n",
        "    \"LINES TERMINATED BY '\\n' \" # If skipped this line and set with '\\n' by default\n",
        "    \"STORED AS textfile \"\n",
        "    \"LOCATION 's3://practice-bucket50412/tsne/' \"\n",
        "    \"TABLE PROPERTIES ('skip.header.line.count'='1');\"\n",
        ")\n",
        "\n",
        "conn = get_connection()\n",
        "cur = conn.cursor()\n",
        "\n",
        "conn.autocommit = True\n",
        "cur.execute(sql_create_external_table_tsne)\n",
        "\n",
        "\n",
        "close(conn)"
      ],
      "metadata": {
        "id": "1EWETLo1xQjN"
      },
      "execution_count": null,
      "outputs": []
    },
    {
      "cell_type": "markdown",
      "source": [
        "### Sample"
      ],
      "metadata": {
        "id": "CzBhJk_izrvk"
      }
    },
    {
      "cell_type": "code",
      "source": [
        "sql_create_table_tsne_sample = (\n",
        "  'CREATE TABLE dev.analytics.spotify_songs_tsne_sampled AS '\n",
        "    'WITH RankedData AS ( '\n",
        "      'SELECT '\n",
        "        'playlist_genre,'\n",
        "        'dimension_1,'\n",
        "        'dimension_2,'\n",
        "        'ROW_NUMBER() OVER (PARTITION BY playlist_genre ORDER BY RAND()) AS row_num '\n",
        "      'FROM '\n",
        "        'dev.external_schema_s3.spotify_songs_tsne'\n",
        "    ')'\n",
        "    'SELECT '\n",
        "      'playlist_genre,'\n",
        "      'dimension_1,'\n",
        "      'dimension_2 '\n",
        "    'FROM '\n",
        "      'RankedData '\n",
        "    'WHERE '\n",
        "      'row_num <= 100; '\n",
        ")\n",
        "\n",
        "conn = get_connection()\n",
        "cur = conn.cursor()\n",
        "\n",
        "cur.execute('BEGIN;')\n",
        "cur.execute(sql_create_table_tsne_sample)\n",
        "cur.execute('END;')\n",
        "\n",
        "close(conn)"
      ],
      "metadata": {
        "id": "6XvGZp8izYcn"
      },
      "execution_count": null,
      "outputs": []
    }
  ]
}